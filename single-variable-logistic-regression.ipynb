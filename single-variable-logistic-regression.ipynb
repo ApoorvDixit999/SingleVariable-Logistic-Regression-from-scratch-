{
 "cells": [
  {
   "cell_type": "code",
   "execution_count": 1,
   "id": "bb389819",
   "metadata": {
    "_cell_guid": "b1076dfc-b9ad-4769-8c92-a6c4dae69d19",
    "_uuid": "8f2839f25d086af736a60e9eeb907d3b93b6e0e5",
    "execution": {
     "iopub.execute_input": "2024-07-22T17:25:35.999945Z",
     "iopub.status.busy": "2024-07-22T17:25:35.999539Z",
     "iopub.status.idle": "2024-07-22T17:25:36.801420Z",
     "shell.execute_reply": "2024-07-22T17:25:36.800447Z"
    },
    "papermill": {
     "duration": 0.810407,
     "end_time": "2024-07-22T17:25:36.804368",
     "exception": false,
     "start_time": "2024-07-22T17:25:35.993961",
     "status": "completed"
    },
    "tags": []
   },
   "outputs": [],
   "source": [
    "# This Python 3 environment comes with many helpful analytics libraries installed\n",
    "# It is defined by the kaggle/python Docker image: https://github.com/kaggle/docker-python\n",
    "# For example, here's several helpful packages to load\n",
    "\n",
    "import numpy as np # linear algebra\n",
    "import pandas as pd # data processing, CSV file I/O (e.g. pd.read_csv)\n",
    "%matplotlib inline\n",
    "import matplotlib.pyplot as plt\n",
    "import random\n",
    "\n",
    "# Input data files are available in the read-only \"../input/\" directory\n",
    "# For example, running this (by clicking run or pressing Shift+Enter) will list all files under the input directory\n",
    "\n",
    "import os\n",
    "for dirname, _, filenames in os.walk('/kaggle/input'):\n",
    "    for filename in filenames:\n",
    "        print(os.path.join(dirname, filename))\n",
    "\n",
    "# You can write up to 20GB to the current directory (/kaggle/working/) that gets preserved as output when you create a version using \"Save & Run All\" \n",
    "# You can also write temporary files to /kaggle/temp/, but they won't be saved outside of the current session"
   ]
  },
  {
   "cell_type": "code",
   "execution_count": 2,
   "id": "687026e3",
   "metadata": {
    "execution": {
     "iopub.execute_input": "2024-07-22T17:25:36.813210Z",
     "iopub.status.busy": "2024-07-22T17:25:36.812740Z",
     "iopub.status.idle": "2024-07-22T17:25:36.818495Z",
     "shell.execute_reply": "2024-07-22T17:25:36.817497Z"
    },
    "papermill": {
     "duration": 0.012418,
     "end_time": "2024-07-22T17:25:36.820549",
     "exception": false,
     "start_time": "2024-07-22T17:25:36.808131",
     "status": "completed"
    },
    "tags": []
   },
   "outputs": [],
   "source": [
    "## Generate random features\n",
    "X = np.array([random.uniform(0, 100) for _ in range(500)])\n",
    "y = np.array([1 if value > 50 else 0 for value in X])"
   ]
  },
  {
   "cell_type": "code",
   "execution_count": 3,
   "id": "c0f10d24",
   "metadata": {
    "execution": {
     "iopub.execute_input": "2024-07-22T17:25:36.828906Z",
     "iopub.status.busy": "2024-07-22T17:25:36.828254Z",
     "iopub.status.idle": "2024-07-22T17:25:36.854175Z",
     "shell.execute_reply": "2024-07-22T17:25:36.853079Z"
    },
    "papermill": {
     "duration": 0.032432,
     "end_time": "2024-07-22T17:25:36.856345",
     "exception": false,
     "start_time": "2024-07-22T17:25:36.823913",
     "status": "completed"
    },
    "tags": []
   },
   "outputs": [
    {
     "data": {
      "text/html": [
       "<div>\n",
       "<style scoped>\n",
       "    .dataframe tbody tr th:only-of-type {\n",
       "        vertical-align: middle;\n",
       "    }\n",
       "\n",
       "    .dataframe tbody tr th {\n",
       "        vertical-align: top;\n",
       "    }\n",
       "\n",
       "    .dataframe thead th {\n",
       "        text-align: right;\n",
       "    }\n",
       "</style>\n",
       "<table border=\"1\" class=\"dataframe\">\n",
       "  <thead>\n",
       "    <tr style=\"text-align: right;\">\n",
       "      <th></th>\n",
       "      <th>Feature value</th>\n",
       "      <th>Target</th>\n",
       "    </tr>\n",
       "  </thead>\n",
       "  <tbody>\n",
       "    <tr>\n",
       "      <th>0</th>\n",
       "      <td>62.619397</td>\n",
       "      <td>1</td>\n",
       "    </tr>\n",
       "    <tr>\n",
       "      <th>1</th>\n",
       "      <td>10.927903</td>\n",
       "      <td>0</td>\n",
       "    </tr>\n",
       "    <tr>\n",
       "      <th>2</th>\n",
       "      <td>79.506259</td>\n",
       "      <td>1</td>\n",
       "    </tr>\n",
       "    <tr>\n",
       "      <th>3</th>\n",
       "      <td>84.561988</td>\n",
       "      <td>1</td>\n",
       "    </tr>\n",
       "    <tr>\n",
       "      <th>4</th>\n",
       "      <td>63.667716</td>\n",
       "      <td>1</td>\n",
       "    </tr>\n",
       "    <tr>\n",
       "      <th>...</th>\n",
       "      <td>...</td>\n",
       "      <td>...</td>\n",
       "    </tr>\n",
       "    <tr>\n",
       "      <th>495</th>\n",
       "      <td>9.371929</td>\n",
       "      <td>0</td>\n",
       "    </tr>\n",
       "    <tr>\n",
       "      <th>496</th>\n",
       "      <td>23.503237</td>\n",
       "      <td>0</td>\n",
       "    </tr>\n",
       "    <tr>\n",
       "      <th>497</th>\n",
       "      <td>98.609748</td>\n",
       "      <td>1</td>\n",
       "    </tr>\n",
       "    <tr>\n",
       "      <th>498</th>\n",
       "      <td>82.511442</td>\n",
       "      <td>1</td>\n",
       "    </tr>\n",
       "    <tr>\n",
       "      <th>499</th>\n",
       "      <td>77.333600</td>\n",
       "      <td>1</td>\n",
       "    </tr>\n",
       "  </tbody>\n",
       "</table>\n",
       "<p>500 rows × 2 columns</p>\n",
       "</div>"
      ],
      "text/plain": [
       "     Feature value  Target\n",
       "0        62.619397       1\n",
       "1        10.927903       0\n",
       "2        79.506259       1\n",
       "3        84.561988       1\n",
       "4        63.667716       1\n",
       "..             ...     ...\n",
       "495       9.371929       0\n",
       "496      23.503237       0\n",
       "497      98.609748       1\n",
       "498      82.511442       1\n",
       "499      77.333600       1\n",
       "\n",
       "[500 rows x 2 columns]"
      ]
     },
     "execution_count": 3,
     "metadata": {},
     "output_type": "execute_result"
    }
   ],
   "source": [
    "dict = {\"Feature value\":X, \"Target\":y}\n",
    "df = pd.DataFrame(dict)\n",
    "df"
   ]
  },
  {
   "cell_type": "code",
   "execution_count": 4,
   "id": "181a1ebd",
   "metadata": {
    "execution": {
     "iopub.execute_input": "2024-07-22T17:25:36.864995Z",
     "iopub.status.busy": "2024-07-22T17:25:36.864676Z",
     "iopub.status.idle": "2024-07-22T17:25:37.091232Z",
     "shell.execute_reply": "2024-07-22T17:25:37.090232Z"
    },
    "papermill": {
     "duration": 0.233415,
     "end_time": "2024-07-22T17:25:37.093367",
     "exception": false,
     "start_time": "2024-07-22T17:25:36.859952",
     "status": "completed"
    },
    "tags": []
   },
   "outputs": [
    {
     "data": {
      "image/png": "[encoded data removed]",
      "text/plain": [
       "<Figure size 640x480 with 1 Axes>"
      ]
     },
     "metadata": {},
     "output_type": "display_data"
    }
   ],
   "source": [
    "#Plotting the data\n",
    "plt.plot(X, y, 'o', c=\"blue\")\n",
    "plt.title(\"Feature value vs Target\")\n",
    "plt.xlabel(\"Feature value\")\n",
    "plt.ylabel(\"Target\")\n",
    "plt.grid()\n",
    "plt.show()"
   ]
  },
  {
   "cell_type": "code",
   "execution_count": 5,
   "id": "350977a9",
   "metadata": {
    "execution": {
     "iopub.execute_input": "2024-07-22T17:25:37.103247Z",
     "iopub.status.busy": "2024-07-22T17:25:37.102453Z",
     "iopub.status.idle": "2024-07-22T17:25:37.107390Z",
     "shell.execute_reply": "2024-07-22T17:25:37.106466Z"
    },
    "papermill": {
     "duration": 0.012136,
     "end_time": "2024-07-22T17:25:37.109531",
     "exception": false,
     "start_time": "2024-07-22T17:25:37.097395",
     "status": "completed"
    },
    "tags": []
   },
   "outputs": [],
   "source": [
    "#Splitting the data\n",
    "X_train = X[:400]\n",
    "y_train = y[:400]\n",
    "X_test = X[400:]\n",
    "y_test = y[400:]"
   ]
  },
  {
   "cell_type": "code",
   "execution_count": 6,
   "id": "208c9aae",
   "metadata": {
    "execution": {
     "iopub.execute_input": "2024-07-22T17:25:37.119725Z",
     "iopub.status.busy": "2024-07-22T17:25:37.118782Z",
     "iopub.status.idle": "2024-07-22T17:25:37.130324Z",
     "shell.execute_reply": "2024-07-22T17:25:37.129279Z"
    },
    "papermill": {
     "duration": 0.018953,
     "end_time": "2024-07-22T17:25:37.132562",
     "exception": false,
     "start_time": "2024-07-22T17:25:37.113609",
     "status": "completed"
    },
    "tags": []
   },
   "outputs": [],
   "source": [
    "#Making all the necessary functions\n",
    "\n",
    "def pick_weights_and_biases():\n",
    "    w = np.random.rand()\n",
    "    b = np.random.rand()\n",
    "    return w, b\n",
    "\n",
    "def sigmoid(z):\n",
    "    return (1/(1 + np.exp(-z)))\n",
    "\n",
    "def calculate_cost(X_data, y_data, w, b):\n",
    "    cost = 0\n",
    "    m = len(X_data)\n",
    "    epsilon = 1e-15  # Small value to avoid log(0)\n",
    "    for i in range(m):\n",
    "        z = (w * X_data[i]) + b\n",
    "        f_wb = sigmoid(z)\n",
    "        cost += (-y_data[i] * np.log(f_wb + epsilon)) - ((1 - y_data[i]) * np.log(1 - f_wb + epsilon))\n",
    "    cost = cost / m\n",
    "    return cost\n",
    "\n",
    "\n",
    "def calculate_gradient(X_data, y_data, w, b):\n",
    "    dj_dw = 0\n",
    "    dj_db = 0\n",
    "    m = len(X_data)\n",
    "    for i in range(m):\n",
    "        z = (w * X_data[i]) + b\n",
    "        f_wb = sigmoid(z)\n",
    "        dj_dw_i = (f_wb - y_data[i]) * X_data[i]\n",
    "        dj_db_i = (f_wb - y_data[i])\n",
    "        dj_dw += dj_dw_i\n",
    "        dj_db += dj_db_i\n",
    "    dj_dw = dj_dw / m\n",
    "    dj_db = dj_db / m\n",
    "    return dj_dw, dj_db\n",
    "\n",
    "def gradient_descent(X_data, y_data, w, b, alpha, iterations):\n",
    "    for i in range(iterations):\n",
    "        dj_dw, dj_db = calculate_gradient(X_data, y_data, w, b)\n",
    "        w = w - (alpha * dj_dw)\n",
    "        b = b - (alpha * dj_db)\n",
    "        if i%1000 == 0:\n",
    "            print(f\" i = {i} ---> cost = {calculate_cost(X_data, y_data, w, b)}\")\n",
    "    return w, b\n"
   ]
  },
  {
   "cell_type": "code",
   "execution_count": 7,
   "id": "a2af27d1",
   "metadata": {
    "execution": {
     "iopub.execute_input": "2024-07-22T17:25:37.142326Z",
     "iopub.status.busy": "2024-07-22T17:25:37.141941Z",
     "iopub.status.idle": "2024-07-22T17:25:46.543776Z",
     "shell.execute_reply": "2024-07-22T17:25:46.542686Z"
    },
    "papermill": {
     "duration": 9.409579,
     "end_time": "2024-07-22T17:25:46.546304",
     "exception": false,
     "start_time": "2024-07-22T17:25:37.136725",
     "status": "completed"
    },
    "tags": []
   },
   "outputs": [
    {
     "name": "stdout",
     "output_type": "stream",
     "text": [
      "Before gradient descent: \n",
      " w = 0.5637542290126879 \n",
      " b = 0.3065866297401407\n",
      "Cost (before gradient descent): 6.9756111104592105\n",
      " i = 0 ---> cost = 4.064023180952001\n",
      " i = 1000 ---> cost = 1.0647615618387543\n",
      " i = 2000 ---> cost = 4.221219211164409\n",
      " i = 3000 ---> cost = 0.36907393802384064\n",
      " i = 4000 ---> cost = 0.1012288403945257\n",
      " i = 5000 ---> cost = 0.23782309894726483\n",
      " i = 6000 ---> cost = 0.178644144918932\n",
      " i = 7000 ---> cost = 0.16013648832008243\n",
      " i = 8000 ---> cost = 0.14086731140718706\n",
      " i = 9000 ---> cost = 0.12030758333487673\n",
      "After gradient descent: \n",
      " w = 0.2644416273661304 \n",
      " b = -11.349468707270308\n",
      "Cost (after gradient descent): 0.11833399034763462\n"
     ]
    }
   ],
   "source": [
    "#Putting everything together\n",
    "w_initial, b_initial = pick_weights_and_biases()\n",
    "\n",
    "print(f\"Before gradient descent: \\n w = {w_initial} \\n b = {b_initial}\")\n",
    "print(f\"Cost (before gradient descent): {calculate_cost(X_train, y_train, w_initial, b_initial)}\")\n",
    "w_final, b_final = gradient_descent(X_train, y_train, w_initial, b_initial, 0.02, 10000)\n",
    "print(f\"After gradient descent: \\n w = {w_final} \\n b = {b_final}\")\n",
    "print(f\"Cost (after gradient descent): {calculate_cost(X_train, y_train, w_final, b_final)}\")"
   ]
  },
  {
   "cell_type": "code",
   "execution_count": 8,
   "id": "b4ee3448",
   "metadata": {
    "execution": {
     "iopub.execute_input": "2024-07-22T17:25:46.557403Z",
     "iopub.status.busy": "2024-07-22T17:25:46.557023Z",
     "iopub.status.idle": "2024-07-22T17:25:46.562612Z",
     "shell.execute_reply": "2024-07-22T17:25:46.561657Z"
    },
    "papermill": {
     "duration": 0.013536,
     "end_time": "2024-07-22T17:25:46.564708",
     "exception": false,
     "start_time": "2024-07-22T17:25:46.551172",
     "status": "completed"
    },
    "tags": []
   },
   "outputs": [],
   "source": [
    "predicted = np.zeros(400)\n",
    "for i in range(400):\n",
    "    predicted[i] = (w_final * X_train[i]) + b_final"
   ]
  },
  {
   "cell_type": "code",
   "execution_count": 9,
   "id": "b0c3fd5b",
   "metadata": {
    "execution": {
     "iopub.execute_input": "2024-07-22T17:25:46.575950Z",
     "iopub.status.busy": "2024-07-22T17:25:46.575545Z",
     "iopub.status.idle": "2024-07-22T17:25:46.800875Z",
     "shell.execute_reply": "2024-07-22T17:25:46.799823Z"
    },
    "papermill": {
     "duration": 0.233898,
     "end_time": "2024-07-22T17:25:46.803377",
     "exception": false,
     "start_time": "2024-07-22T17:25:46.569479",
     "status": "completed"
    },
    "tags": []
   },
   "outputs": [
    {
     "data": {
      "image/png": "[encoded data removed]",
      "text/plain": [
       "<Figure size 640x480 with 1 Axes>"
      ]
     },
     "metadata": {},
     "output_type": "display_data"
    }
   ],
   "source": [
    "#Plotting the sigmoid plot\n",
    "\n",
    "\n",
    "#Plotting Sigmoid function\n",
    "x_range = np.linspace(min(X), max(X), 100)\n",
    "y_range = sigmoid(w_final * x_range + b_final)\n",
    "plt.plot(x_range, y_range, color='blue', label='Logistic Function')\n",
    "plt.scatter(X_train, y_train, c='red', marker='o', label='Data Points')\n",
    "\n",
    "plt.title(\"Feature value vs Target\")\n",
    "plt.xlabel(\"Feature value\")\n",
    "plt.ylabel(\"Target\")\n",
    "plt.grid()\n",
    "plt.show()\n",
    "\n",
    "\n",
    "# plt.plot(X_train, sigmoid(predicted), 'o', c=\"red\")\n",
    "# plt.plot(X_train, y_train, 'o', c=\"blue\")\n",
    "# plt.title(\"Feature value vs Target\")\n",
    "# plt.xlabel(\"Feature value\")\n",
    "# plt.ylabel(\"Target\")\n",
    "# plt.grid()\n",
    "# plt.show()"
   ]
  },
  {
   "cell_type": "code",
   "execution_count": 10,
   "id": "80ab9afc",
   "metadata": {
    "execution": {
     "iopub.execute_input": "2024-07-22T17:25:46.815917Z",
     "iopub.status.busy": "2024-07-22T17:25:46.815253Z",
     "iopub.status.idle": "2024-07-22T17:25:48.013746Z",
     "shell.execute_reply": "2024-07-22T17:25:48.012633Z"
    },
    "papermill": {
     "duration": 1.207578,
     "end_time": "2024-07-22T17:25:48.016409",
     "exception": false,
     "start_time": "2024-07-22T17:25:46.808831",
     "status": "completed"
    },
    "tags": []
   },
   "outputs": [
    {
     "name": "stdout",
     "output_type": "stream",
     "text": [
      "Accuracy: 0.95\n",
      "Precision: 0.9152542372881356\n",
      "Recall: 1.0\n",
      "F1 Score: 0.9557522123893806\n",
      "Confusion Matrix:\n",
      " [[41  5]\n",
      " [ 0 54]]\n"
     ]
    }
   ],
   "source": [
    "from sklearn.metrics import accuracy_score, precision_score, recall_score, f1_score, confusion_matrix\n",
    "\n",
    "# Making predictions\n",
    "y_preds = sigmoid(w_final * X_test + b_final)\n",
    "\n",
    "# Convert predictions to binary (0 or 1) based on a threshold (e.g., 0.5)\n",
    "threshold = 0.3\n",
    "y_preds_binary = [1 if pred >= threshold else 0 for pred in y_preds]\n",
    "\n",
    "# Calculate accuracy\n",
    "accuracy = accuracy_score(y_test, y_preds_binary)\n",
    "print(\"Accuracy:\", accuracy)\n",
    "\n",
    "# Calculate precision\n",
    "precision = precision_score(y_test, y_preds_binary)\n",
    "print(\"Precision:\", precision)\n",
    "\n",
    "# Calculate recall\n",
    "recall = recall_score(y_test, y_preds_binary)\n",
    "print(\"Recall:\", recall)\n",
    "\n",
    "# Calculate F1 score\n",
    "f1 = f1_score(y_test, y_preds_binary)\n",
    "print(\"F1 Score:\", f1)\n",
    "\n",
    "# Calculate confusion matrix\n",
    "conf_matrix = confusion_matrix(y_test, y_preds_binary)\n",
    "print(\"Confusion Matrix:\\n\", conf_matrix)\n"
   ]
  },
  {
   "cell_type": "code",
   "execution_count": null,
   "id": "673284eb",
   "metadata": {
    "papermill": {
     "duration": 0.005127,
     "end_time": "2024-07-22T17:25:48.027233",
     "exception": false,
     "start_time": "2024-07-22T17:25:48.022106",
     "status": "completed"
    },
    "tags": []
   },
   "outputs": [],
   "source": []
  }
 ],
 "metadata": {
  "kaggle": {
   "accelerator": "none",
   "dataSources": [],
   "dockerImageVersionId": 30746,
   "isGpuEnabled": false,
   "isInternetEnabled": true,
   "language": "python",
   "sourceType": "notebook"
  },
  "kernelspec": {
   "display_name": "Python 3",
   "language": "python",
   "name": "python3"
  },
  "language_info": {
   "codemirror_mode": {
    "name": "ipython",
    "version": 3
   },
   "file_extension": ".py",
   "mimetype": "text/x-python",
   "name": "python",
   "nbconvert_exporter": "python",
   "pygments_lexer": "ipython3",
   "version": "3.10.13"
  },
  "papermill": {
   "default_parameters": {},
   "duration": 15.417549,
   "end_time": "2024-07-22T17:25:48.653833",
   "environment_variables": {},
   "exception": null,
   "input_path": "__notebook__.ipynb",
   "output_path": "__notebook__.ipynb",
   "parameters": {},
   "start_time": "2024-07-22T17:25:33.236284",
   "version": "2.5.0"
  }
 },
 "nbformat": 4,
 "nbformat_minor": 5
}
